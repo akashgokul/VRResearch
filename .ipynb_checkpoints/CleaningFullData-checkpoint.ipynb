{
 "cells": [
  {
   "cell_type": "code",
   "execution_count": 8,
   "metadata": {},
   "outputs": [],
   "source": [
    "import pandas as pd"
   ]
  },
  {
   "cell_type": "code",
   "execution_count": null,
   "metadata": {},
   "outputs": [],
   "source": []
  },
  {
   "cell_type": "code",
   "execution_count": 9,
   "metadata": {},
   "outputs": [],
   "source": [
    "data_frame = pd.read_csv(\"fulldataset.csv\")"
   ]
  },
  {
   "cell_type": "code",
   "execution_count": 10,
   "metadata": {},
   "outputs": [],
   "source": [
    "useless_columns = list(data_frame.columns)\n",
    "useless_columns = useless_columns[0:-4] + useless_columns[-2:]"
   ]
  },
  {
   "cell_type": "code",
   "execution_count": 11,
   "metadata": {},
   "outputs": [],
   "source": [
    "data_frame = data_frame.drop(useless_columns,axis=1)"
   ]
  },
  {
   "cell_type": "code",
   "execution_count": 12,
   "metadata": {},
   "outputs": [],
   "source": [
    "data_frame = data_frame.replace({\"Good chair\":1, \"Bad chair\":0})\n",
    "gb_df = data_frame[~data_frame['Answer.category.label'].isin([\"Inconclusive but likely bad\",\"Inconclusive but likely good\"])]"
   ]
  },
  {
   "cell_type": "code",
   "execution_count": 13,
   "metadata": {},
   "outputs": [],
   "source": [
    "aggregation_functions = {'Answer.category.label': 'sum', 'Input.image_url': 'first'}"
   ]
  },
  {
   "cell_type": "code",
   "execution_count": 14,
   "metadata": {},
   "outputs": [
    {
     "name": "stdout",
     "output_type": "stream",
     "text": [
      "         Input.image_url Answer.category.label\n",
      "0     all_views_2160.png                     1\n",
      "1     all_views_2160.png                     1\n",
      "3     all_views_2161.png                     1\n",
      "4     all_views_2163.png                     0\n",
      "6      all_views_123.png                     0\n",
      "...                  ...                   ...\n",
      "6177   all_views_421.png                     1\n",
      "6178   all_views_421.png                     1\n",
      "6179   all_views_423.png                     1\n",
      "6181   all_views_424.png                     1\n",
      "6182   all_views_424.png                     1\n",
      "\n",
      "[5264 rows x 2 columns]\n"
     ]
    }
   ],
   "source": [
    "print(gb_df)"
   ]
  },
  {
   "cell_type": "code",
   "execution_count": 15,
   "metadata": {},
   "outputs": [],
   "source": [
    "imgs = list(gb_df['Input.image_url'].unique())"
   ]
  },
  {
   "cell_type": "code",
   "execution_count": 16,
   "metadata": {},
   "outputs": [
    {
     "name": "stdout",
     "output_type": "stream",
     "text": [
      "         Input.image_url Answer.category.label\n",
      "0     all_views_2160.png                     1\n",
      "1     all_views_2163.png                     0\n",
      "2      all_views_123.png                     0\n",
      "3     all_views_2164.png                     0\n",
      "4     all_views_1231.png                     0\n",
      "...                  ...                   ...\n",
      "2232   all_views_660.png                     1\n",
      "2233   all_views_415.png                     1\n",
      "2234   all_views_661.png                     1\n",
      "2235   all_views_421.png                     1\n",
      "2236   all_views_424.png                     1\n",
      "\n",
      "[2237 rows x 2 columns]\n"
     ]
    }
   ],
   "source": [
    "final_gb_df = gb_df.copy()\n",
    "for img in imgs:\n",
    "    entries = final_gb_df.loc[final_gb_df['Input.image_url']==img]\n",
    "    labels = list(entries.loc[: , 'Answer.category.label'])\n",
    "    sum_labels = sum(labels)\n",
    "    final_gb_df = final_gb_df.drop(entries.index)\n",
    "    if(sum_labels == 0 or sum_labels == 2):\n",
    "        label = sum([1 if sum_labels == 2 else 0])\n",
    "        row = [[img,label]]\n",
    "        col = ['Input.image_url', 'Answer.category.label']\n",
    "        new_label = pd.DataFrame(row,columns=col)\n",
    "        final_gb_df = final_gb_df.append(new_label,ignore_index = True)\n",
    "print(final_gb_df)"
   ]
  },
  {
   "cell_type": "code",
   "execution_count": 17,
   "metadata": {},
   "outputs": [],
   "source": [
    "#final_gb_df.to_csv(\"full_gb.csv\", sep=',')"
   ]
  },
  {
   "cell_type": "code",
   "execution_count": 24,
   "metadata": {},
   "outputs": [],
   "source": [
    "def prune(csv_file1, list_of_csv_files):\n",
    "    \"\"\"\n",
    "    Input: csv_file1 = input csv file (e.g. full data set)\n",
    "            list_of_csv_files = list of csv file locations containing data that we want removed from csv_file1\n",
    "\n",
    "    Returns new df, which is df of csv_file1 without the entries in any of the csv files in list_of_csv_files\n",
    "    \"\"\"\n",
    "    pd_frame1 = pd.read_csv(csv_file1)\n",
    "    for file in list_of_csv_files:\n",
    "        curr_df = pd.read_csv(file)\n",
    "        df_imgs_in_curr_df = curr_df.iloc[:,0]\n",
    "        imgs_in_curr_df = df_imgs_in_curr_df.values.tolist()\n",
    "        pd_frame1 = pd_frame1[~pd_frame1['Input.image_url'].isin(imgs_in_curr_df)]\n",
    "    return pd_frame1\n",
    "\n",
    "list_csvs = [\"train_data.csv\",\"val_data.csv\"]\n",
    "pruned = prune(\"full_gb.csv\",list_csvs)"
   ]
  },
  {
   "cell_type": "code",
   "execution_count": 26,
   "metadata": {},
   "outputs": [
    {
     "name": "stdout",
     "output_type": "stream",
     "text": [
      "0\n"
     ]
    }
   ],
   "source": [
    "#Checking if pruning worked\n",
    "def prune_check(pruned_csv, list_of_csv_files):\n",
    "    missed_ct = 0\n",
    "    df = pruned_csv\n",
    "    imgs_in_pruned_df = df['Input.image_url'].tolist()\n",
    "    for file in list_of_csv_files:\n",
    "        curr_df = pd.read_csv(file)\n",
    "        df_imgs_in_curr_df = curr_df.iloc[:,0]\n",
    "        imgs_in_curr_df = df_imgs_in_curr_df.values.tolist()\n",
    "        missed_ct += sum([1 if curr_elem in imgs_in_pruned_df else 0 for curr_elem in imgs_in_curr_df ])\n",
    "    return missed_ct\n",
    "print(prune_check(pruned, list_csvs))"
   ]
  },
  {
   "cell_type": "code",
   "execution_count": 27,
   "metadata": {},
   "outputs": [],
   "source": [
    "pruned.to_csv(\"testset_gb.csv\",sep=\",\")"
   ]
  },
  {
   "cell_type": "code",
   "execution_count": null,
   "metadata": {},
   "outputs": [],
   "source": []
  }
 ],
 "metadata": {
  "kernelspec": {
   "display_name": "Python 3",
   "language": "python",
   "name": "python3"
  },
  "language_info": {
   "codemirror_mode": {
    "name": "ipython",
    "version": 3
   },
   "file_extension": ".py",
   "mimetype": "text/x-python",
   "name": "python",
   "nbconvert_exporter": "python",
   "pygments_lexer": "ipython3",
   "version": "3.7.5"
  }
 },
 "nbformat": 4,
 "nbformat_minor": 2
}
