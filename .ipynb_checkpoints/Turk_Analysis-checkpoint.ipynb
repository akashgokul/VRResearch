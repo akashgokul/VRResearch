{
 "cells": [
  {
   "cell_type": "code",
   "execution_count": 1,
   "metadata": {},
   "outputs": [],
   "source": [
    "import csv"
   ]
  },
  {
   "cell_type": "code",
   "execution_count": 2,
   "metadata": {},
   "outputs": [
    {
     "name": "stdout",
     "output_type": "stream",
     "text": [
      "Exact Accuracy Percent:\n",
      "50.0\n"
     ]
    }
   ],
   "source": [
    "batch_response = {}\n",
    "with open('Batch1.csv', encoding='utf8') as csvfile:\n",
    "# with open('../../building_data.csv', encoding='utf8') as csvfile:\n",
    "    csvreader = csv.reader(csvfile, delimiter=',')\n",
    "    next(csvreader,None)\n",
    "    rowcount = 0\n",
    "    for row in csvreader:\n",
    "        batch_response[row[-2]] = [row[-1]]\n",
    "with open('Batch2.csv', encoding='utf8') as csvfile:\n",
    "# with open('../../building_data.csv', encoding='utf8') as csvfile:\n",
    "    csvreader = csv.reader(csvfile, delimiter=',')\n",
    "    next(csvreader,None)\n",
    "    rowcount = 0\n",
    "    for row in csvreader:\n",
    "        batch_response[row[-2]].append(row[-1])\n",
    "    \n",
    "print(\"Exact Accuracy Percent:\")\n",
    "total_imgs = len(batch_response.keys())\n",
    "num_same_ans = sum([1 if batch_response[k][0] == batch_response[k][1] else 0 for k in batch_response.keys()])\n",
    "print(100*num_same_ans/total_imgs)"
   ]
  },
  {
   "cell_type": "code",
   "execution_count": 3,
   "metadata": {},
   "outputs": [
    {
     "name": "stdout",
     "output_type": "stream",
     "text": [
      "Rough Accuracy Percent:\n",
      "77.77777777777777\n",
      "\n",
      "Good Chair\n",
      "Batch 1: 48\n",
      "Batch 2: 31\n",
      "\n",
      "Bad Chair\n",
      "Batch 1: 36\n",
      "Batch 2: 33\n",
      "\n",
      "Good Bad Count\n",
      "Batch 1: 84\n",
      "Batch 2: 64\n"
     ]
    }
   ],
   "source": [
    "responses = {\"Good chair\":1,\"Inconclusive but likely good\":1,\"Bad chair\":0,\"Inconclusive but likely bad\":0}\n",
    "batch_response = {}\n",
    "good_chair_ct = 0\n",
    "bad_chair_ct = 0\n",
    "with open('Batch1.csv', encoding='utf8') as csvfile:\n",
    "# with open('../../building_data.csv', encoding='utf8') as csvfile:\n",
    "    csvreader = csv.reader(csvfile, delimiter=',')\n",
    "    next(csvreader,None)\n",
    "    rowcount = 0\n",
    "    for row in csvreader:\n",
    "        response = responses[row[-1]]\n",
    "        batch_response[row[-2]] = [response]\n",
    "        if(row[-1] == \"Good chair\"):\n",
    "            good_chair_ct += 1\n",
    "        if(row[-1] == \"Bad chair\"):\n",
    "            bad_chair_ct += 1\n",
    "\n",
    "good_chair_ct_2 = 0\n",
    "bad_chair_ct_2 = 0\n",
    "with open('Batch2.csv', encoding='utf8') as csvfile:\n",
    "# with open('../../building_data.csv', encoding='utf8') as csvfile:\n",
    "    csvreader = csv.reader(csvfile, delimiter=',')\n",
    "    next(csvreader,None)\n",
    "    rowcount = 0\n",
    "    for row in csvreader:\n",
    "        response = responses[row[-1]]\n",
    "        batch_response[row[-2]].append(response)\n",
    "        if(row[-1] == \"Good chair\"):\n",
    "            good_chair_ct_2 += 1\n",
    "        if(row[-1] == \"Bad chair\"):\n",
    "            bad_chair_ct_2 += 1\n",
    "    \n",
    "print(\"Rough Accuracy Percent:\")\n",
    "total_imgs = len(batch_response.keys())\n",
    "num_same_ans = sum([1 if batch_response[k][0] == batch_response[k][1] else 0 for k in batch_response.keys()])\n",
    "print(100*num_same_ans/total_imgs)\n",
    "print(\"\")\n",
    "print(\"Good Chair\")\n",
    "print(\"Batch 1: \"  + str(good_chair_ct))\n",
    "print(\"Batch 2: \" + str(good_chair_ct_2))\n",
    "print(\"\")\n",
    "print(\"Bad Chair\")\n",
    "print(\"Batch 1: \" + str(bad_chair_ct))\n",
    "print(\"Batch 2: \" + str(bad_chair_ct_2))\n",
    "\n",
    "print(\"\")\n",
    "print(\"Good Bad Count\")\n",
    "print(\"Batch 1: \" + str(good_chair_ct + bad_chair_ct))\n",
    "print(\"Batch 2: \" + str(good_chair_ct_2 + bad_chair_ct_2))"
   ]
  },
  {
   "cell_type": "markdown",
   "metadata": {},
   "source": [
    "## Final Batch"
   ]
  },
  {
   "cell_type": "code",
   "execution_count": 12,
   "metadata": {},
   "outputs": [
    {
     "name": "stdout",
     "output_type": "stream",
     "text": [
      "Train Sample Size: 1163\n",
      "Val Sample Size: 387\n"
     ]
    }
   ],
   "source": [
    "with open('train_data.csv', encoding='utf8') as csvfile:\n",
    "# with open('../../building_data.csv', encoding='utf8') as csvfile:\n",
    "    csvreader = csv.reader(csvfile, delimiter=',')\n",
    "    next(csvreader,None)\n",
    "    t_rowcount = 0\n",
    "    for row in csvreader:\n",
    "        t_rowcount += 1\n",
    "    \n",
    "with open('val_data.csv', encoding='utf8') as csvfile:\n",
    "# with open('../../building_data.csv', encoding='utf8') as csvfile:\n",
    "    csvreader = csv.reader(csvfile, delimiter=',')\n",
    "    next(csvreader,None)\n",
    "    rowcount = 0\n",
    "    for row in csvreader:\n",
    "        rowcount += 1\n",
    "print(\"Train Sample Size: \" + str(t_rowcount))\n",
    "print(\"Val Sample Size: \" + str(rowcount))"
   ]
  },
  {
   "cell_type": "code",
   "execution_count": null,
   "metadata": {},
   "outputs": [],
   "source": []
  }
 ],
 "metadata": {
  "kernelspec": {
   "display_name": "Python 3",
   "language": "python",
   "name": "python3"
  },
  "language_info": {
   "codemirror_mode": {
    "name": "ipython",
    "version": 3
   },
   "file_extension": ".py",
   "mimetype": "text/x-python",
   "name": "python",
   "nbconvert_exporter": "python",
   "pygments_lexer": "ipython3",
   "version": "3.7.4"
  }
 },
 "nbformat": 4,
 "nbformat_minor": 2
}
