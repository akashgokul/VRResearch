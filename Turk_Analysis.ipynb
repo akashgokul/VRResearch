{
 "cells": [
  {
   "cell_type": "code",
   "execution_count": 19,
   "metadata": {},
   "outputs": [],
   "source": [
    "import csv"
   ]
  },
  {
   "cell_type": "code",
   "execution_count": 20,
   "metadata": {},
   "outputs": [
    {
     "name": "stdout",
     "output_type": "stream",
     "text": [
      "Exact Accuracy Percent:\n",
      "50.0\n"
     ]
    }
   ],
   "source": [
    "batch_response = {}\n",
    "with open('Batch1.csv', encoding='utf8') as csvfile:\n",
    "# with open('../../building_data.csv', encoding='utf8') as csvfile:\n",
    "    csvreader = csv.reader(csvfile, delimiter=',')\n",
    "    next(csvreader,None)\n",
    "    rowcount = 0\n",
    "    for row in csvreader:\n",
    "        batch_response[row[-2]] = [row[-1]]\n",
    "with open('Batch2.csv', encoding='utf8') as csvfile:\n",
    "# with open('../../building_data.csv', encoding='utf8') as csvfile:\n",
    "    csvreader = csv.reader(csvfile, delimiter=',')\n",
    "    next(csvreader,None)\n",
    "    rowcount = 0\n",
    "    for row in csvreader:\n",
    "        batch_response[row[-2]].append(row[-1])\n",
    "    \n",
    "print(\"Exact Accuracy Percent:\")\n",
    "total_imgs = len(batch_response.keys())\n",
    "num_same_ans = sum([1 if batch_response[k][0] == batch_response[k][1] else 0 for k in batch_response.keys()])\n",
    "print(100*num_same_ans/total_imgs)"
   ]
  },
  {
   "cell_type": "code",
   "execution_count": 21,
   "metadata": {},
   "outputs": [
    {
     "name": "stdout",
     "output_type": "stream",
     "text": [
      "Exact Accuracy Percent:\n",
      "77.77777777777777\n"
     ]
    }
   ],
   "source": [
    "responses = {\"Good chair\":1,\"Inconclusive but likely good\":1,\"Bad chair\":0,\"Inconclusive but likely bad\":0}\n",
    "batch_response = {}\n",
    "with open('Batch1.csv', encoding='utf8') as csvfile:\n",
    "# with open('../../building_data.csv', encoding='utf8') as csvfile:\n",
    "    csvreader = csv.reader(csvfile, delimiter=',')\n",
    "    next(csvreader,None)\n",
    "    rowcount = 0\n",
    "    for row in csvreader:\n",
    "        response = responses[row[-1]]\n",
    "        batch_response[row[-2]] = [response]\n",
    "with open('Batch2.csv', encoding='utf8') as csvfile:\n",
    "# with open('../../building_data.csv', encoding='utf8') as csvfile:\n",
    "    csvreader = csv.reader(csvfile, delimiter=',')\n",
    "    next(csvreader,None)\n",
    "    rowcount = 0\n",
    "    for row in csvreader:\n",
    "        response = responses[row[-1]]\n",
    "        batch_response[row[-2]].append(response)\n",
    "    \n",
    "print(\"Exact Accuracy Percent:\")\n",
    "total_imgs = len(batch_response.keys())\n",
    "num_same_ans = sum([1 if batch_response[k][0] == batch_response[k][1] else 0 for k in batch_response.keys()])\n",
    "print(100*num_same_ans/total_imgs)"
   ]
  },
  {
   "cell_type": "code",
   "execution_count": null,
   "metadata": {},
   "outputs": [],
   "source": []
  }
 ],
 "metadata": {
  "kernelspec": {
   "display_name": "Python 3",
   "language": "python",
   "name": "python3"
  },
  "language_info": {
   "codemirror_mode": {
    "name": "ipython",
    "version": 3
   },
   "file_extension": ".py",
   "mimetype": "text/x-python",
   "name": "python",
   "nbconvert_exporter": "python",
   "pygments_lexer": "ipython3",
   "version": "3.7.4"
  }
 },
 "nbformat": 4,
 "nbformat_minor": 2
}
