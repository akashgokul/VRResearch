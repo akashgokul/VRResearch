{
  "nbformat": 4,
  "nbformat_minor": 0,
  "metadata": {
    "colab": {
      "name": "Dapo Research",
      "provenance": [],
      "collapsed_sections": [],
      "machine_shape": "hm",
      "include_colab_link": true
    },
    "kernelspec": {
      "name": "python3",
      "display_name": "Python 3"
    },
    "accelerator": "GPU"
  },
  "cells": [
    {
      "cell_type": "markdown",
      "metadata": {
        "id": "view-in-github",
        "colab_type": "text"
      },
      "source": [
        "<a href=\"https://colab.research.google.com/github/akashgokul/VRResearch/blob/master/Dapo_Research.ipynb\" target=\"_parent\"><img src=\"https://colab.research.google.com/assets/colab-badge.svg\" alt=\"Open In Colab\"/></a>"
      ]
    },
    {
      "cell_type": "code",
      "metadata": {
        "id": "bldlqQx55L72",
        "colab_type": "code",
        "outputId": "55deca1c-d3ab-4675-8de3-307b4983f456",
        "colab": {
          "base_uri": "https://localhost:8080/",
          "height": 34
        }
      },
      "source": [
        "from google.colab import drive\n",
        "drive.mount('/content/gdrive')"
      ],
      "execution_count": 0,
      "outputs": [
        {
          "output_type": "stream",
          "text": [
            "Drive already mounted at /content/gdrive; to attempt to forcibly remount, call drive.mount(\"/content/gdrive\", force_remount=True).\n"
          ],
          "name": "stdout"
        }
      ]
    },
    {
      "cell_type": "code",
      "metadata": {
        "id": "eUdeSPGaELrW",
        "colab_type": "code",
        "outputId": "658c4412-971a-4aef-cb41-d6484ed3ae1a",
        "colab": {
          "base_uri": "https://localhost:8080/",
          "height": 34
        }
      },
      "source": [
        "!pwd"
      ],
      "execution_count": 0,
      "outputs": [
        {
          "output_type": "stream",
          "text": [
            "/content/gdrive/My Drive/VRResearch\n"
          ],
          "name": "stdout"
        }
      ]
    },
    {
      "cell_type": "code",
      "metadata": {
        "id": "SgoWkjEgEeEC",
        "colab_type": "code",
        "outputId": "aafeea4b-2cdd-4a7c-f79b-fd526b76466c",
        "colab": {
          "base_uri": "https://localhost:8080/",
          "height": 34
        }
      },
      "source": [
        "%cd /content/gdrive/My Drive/VRResearch"
      ],
      "execution_count": 0,
      "outputs": [
        {
          "output_type": "stream",
          "text": [
            "/content/gdrive/My Drive/VRResearch\n"
          ],
          "name": "stdout"
        }
      ]
    },
    {
      "cell_type": "code",
      "metadata": {
        "id": "OKTZiGWBEhMD",
        "colab_type": "code",
        "outputId": "76a3560b-d5eb-4ff9-a78d-bbd2026f9340",
        "colab": {
          "base_uri": "https://localhost:8080/",
          "height": 51
        }
      },
      "source": [
        "%ls"
      ],
      "execution_count": 0,
      "outputs": [
        {
          "output_type": "stream",
          "text": [
            "Batch1.csv  \u001b[0m\u001b[01;34mmturk\u001b[0m/       train_data.csv       val_data.csv\n",
            "Batch2.csv  resnet18.pt  Turk_Analysis.ipynb\n"
          ],
          "name": "stdout"
        }
      ]
    },
    {
      "cell_type": "code",
      "metadata": {
        "id": "mh_VjVkOtcdX",
        "colab_type": "code",
        "outputId": "6b21fe18-5d31-4f0a-91f9-a8ad7520ea6a",
        "colab": {
          "base_uri": "https://localhost:8080/",
          "height": 275
        }
      },
      "source": [
        "pip install ipdb"
      ],
      "execution_count": 0,
      "outputs": [
        {
          "output_type": "stream",
          "text": [
            "Requirement already satisfied: ipdb in /usr/local/lib/python3.6/dist-packages (0.12.2)\n",
            "Requirement already satisfied: ipython>=5.1.0; python_version >= \"3.4\" in /usr/local/lib/python3.6/dist-packages (from ipdb) (5.5.0)\n",
            "Requirement already satisfied: setuptools in /usr/local/lib/python3.6/dist-packages (from ipdb) (41.4.0)\n",
            "Requirement already satisfied: prompt-toolkit<2.0.0,>=1.0.4 in /usr/local/lib/python3.6/dist-packages (from ipython>=5.1.0; python_version >= \"3.4\"->ipdb) (1.0.18)\n",
            "Requirement already satisfied: pygments in /usr/local/lib/python3.6/dist-packages (from ipython>=5.1.0; python_version >= \"3.4\"->ipdb) (2.1.3)\n",
            "Requirement already satisfied: simplegeneric>0.8 in /usr/local/lib/python3.6/dist-packages (from ipython>=5.1.0; python_version >= \"3.4\"->ipdb) (0.8.1)\n",
            "Requirement already satisfied: traitlets>=4.2 in /usr/local/lib/python3.6/dist-packages (from ipython>=5.1.0; python_version >= \"3.4\"->ipdb) (4.3.3)\n",
            "Requirement already satisfied: decorator in /usr/local/lib/python3.6/dist-packages (from ipython>=5.1.0; python_version >= \"3.4\"->ipdb) (4.4.1)\n",
            "Requirement already satisfied: pickleshare in /usr/local/lib/python3.6/dist-packages (from ipython>=5.1.0; python_version >= \"3.4\"->ipdb) (0.7.5)\n",
            "Requirement already satisfied: pexpect; sys_platform != \"win32\" in /usr/local/lib/python3.6/dist-packages (from ipython>=5.1.0; python_version >= \"3.4\"->ipdb) (4.7.0)\n",
            "Requirement already satisfied: six>=1.9.0 in /usr/local/lib/python3.6/dist-packages (from prompt-toolkit<2.0.0,>=1.0.4->ipython>=5.1.0; python_version >= \"3.4\"->ipdb) (1.12.0)\n",
            "Requirement already satisfied: wcwidth in /usr/local/lib/python3.6/dist-packages (from prompt-toolkit<2.0.0,>=1.0.4->ipython>=5.1.0; python_version >= \"3.4\"->ipdb) (0.1.7)\n",
            "Requirement already satisfied: ipython-genutils in /usr/local/lib/python3.6/dist-packages (from traitlets>=4.2->ipython>=5.1.0; python_version >= \"3.4\"->ipdb) (0.2.0)\n",
            "Requirement already satisfied: ptyprocess>=0.5 in /usr/local/lib/python3.6/dist-packages (from pexpect; sys_platform != \"win32\"->ipython>=5.1.0; python_version >= \"3.4\"->ipdb) (0.6.0)\n"
          ],
          "name": "stdout"
        }
      ]
    },
    {
      "cell_type": "code",
      "metadata": {
        "id": "QCWrCuDuEmjx",
        "colab_type": "code",
        "colab": {}
      },
      "source": [
        "import torch\n",
        "from PIL import Image\n",
        "from torch.utils import data\n",
        "import numpy as np\n",
        "import ipdb\n",
        "import pandas as pd\n",
        "from skimage import io, transform\n",
        "import matplotlib.pyplot as plt\n",
        "from torch.utils.data import Dataset, DataLoader\n",
        "from torchvision import transforms, utils\n",
        "import time\n",
        "from torch import nn, optim\n",
        "import torchvision.models as models\n"
      ],
      "execution_count": 0,
      "outputs": []
    },
    {
      "cell_type": "code",
      "metadata": {
        "id": "5JCfikKNSQLx",
        "colab_type": "code",
        "colab": {}
      },
      "source": [
        "use_cuda = torch.cuda.is_available()\n",
        "device = torch.device(\"cuda:0\" if use_cuda else \"cpu\")\n",
        "class MTurkTrain(Dataset):\n",
        "  def __init__(self,csv_file):\n",
        "    self.data_frame = pd.read_csv(csv_file)\n",
        "    self.img_dir = \"/content/gdrive/My Drive/VRResearch/mturk/\"\n",
        "\n",
        "  def __len__(self):\n",
        "    return self.data_frame.shape[0]\n",
        "  \n",
        "  def __getitem__(self,idx):\n",
        "    transform = transforms.Compose([transforms.ToTensor(),transforms.Normalize((0.5, 0.5, 0.5), (0.5, 0.5, 0.5))])\n",
        "    img_label_pair = self.data_frame.iloc[idx]\n",
        "    img_name = img_label_pair[0]\n",
        "    img = Image.open(self.img_dir + img_name)\n",
        "    img = transform(img)\n",
        "    label = img_label_pair[1]\n",
        "    return img,label\n",
        "\n",
        "params = {'batch_size': 10,\n",
        "          'shuffle': True,\n",
        "          'num_workers': 0}\n",
        "\n",
        "train_dataset = MTurkTrain(\"train_data.csv\")\n",
        "training_generator = data.DataLoader(train_dataset, **params)\n",
        "\n",
        "validation_set = MTurkTrain(\"val_data.csv\")\n",
        "validation_generator = data.DataLoader(validation_set, **params)"
      ],
      "execution_count": 0,
      "outputs": []
    },
    {
      "cell_type": "code",
      "metadata": {
        "id": "6chcStLmFYcZ",
        "colab_type": "code",
        "outputId": "9f2d5fbd-37f4-4d48-b7c4-1281d185e528",
        "colab": {
          "base_uri": "https://localhost:8080/",
          "height": 1000
        }
      },
      "source": [
        "\n",
        "model = models.resnet18(s)\n",
        "#From Stanford tutorial\n",
        "#use_cuda = torch.cuda.is_available()\n",
        "#device = torch.device(\"cuda:0\" if use_cuda else \"cpu\")\n",
        "\n",
        "\n",
        "max_epochs = 1\n",
        "\n",
        "loss_function = nn.CrossEntropyLoss()\n",
        "optimizer = optim.Adadelta(model.parameters())\n",
        "\n",
        "start_ts = time.time()\n",
        "model.train()\n",
        "batches = params['batch_size']\n",
        "\n",
        "for epoch in range(max_epochs):\n",
        "    print(\"EPOCH: \" + str(epoch))\n",
        "    total_loss = 0\n",
        "  #Training \n",
        "    for idx, data in enumerate(training_generator):\n",
        "        X, y = data[0], data[1]\n",
        "        model.zero_grad()\n",
        "        outputs = model(X)\n",
        "        print(\"     on to loss\")\n",
        "        loss = loss_function(outputs, y)\n",
        "        loss.backward()\n",
        "        print(\"     backprop\")\n",
        "        optimizer.step()\n",
        "        current_loss = loss.item()\n",
        "        total_loss += current_loss\n",
        "        print(\"     Loss: {:.4f}\".format(total_loss/(idx+1)))\n",
        "    \n",
        "    if torch.cuda.is_available():\n",
        "        torch.cuda.empty_cache()\n",
        "  \n"
      ],
      "execution_count": 0,
      "outputs": [
        {
          "output_type": "stream",
          "text": [
            "EPOCH: 0\n",
            "     on to loss\n",
            "     backprop\n",
            "     Loss: 7.2192\n",
            "     on to loss\n",
            "     backprop\n",
            "     Loss: 6.0114\n",
            "     on to loss\n",
            "     backprop\n",
            "     Loss: 4.5803\n",
            "     on to loss\n",
            "     backprop\n",
            "     Loss: 3.7484\n",
            "     on to loss\n",
            "     backprop\n",
            "     Loss: 3.2197\n",
            "     on to loss\n",
            "     backprop\n",
            "     Loss: 2.8144\n",
            "     on to loss\n",
            "     backprop\n",
            "     Loss: 2.6206\n",
            "     on to loss\n",
            "     backprop\n",
            "     Loss: 2.4007\n",
            "     on to loss\n",
            "     backprop\n",
            "     Loss: 2.1679\n",
            "     on to loss\n",
            "     backprop\n",
            "     Loss: 2.0566\n",
            "     on to loss\n",
            "     backprop\n",
            "     Loss: 1.9500\n",
            "     on to loss\n",
            "     backprop\n",
            "     Loss: 1.8973\n",
            "     on to loss\n",
            "     backprop\n",
            "     Loss: 1.8461\n",
            "     on to loss\n",
            "     backprop\n",
            "     Loss: 1.7966\n",
            "     on to loss\n",
            "     backprop\n",
            "     Loss: 1.7597\n",
            "     on to loss\n",
            "     backprop\n",
            "     Loss: 1.7005\n",
            "     on to loss\n",
            "     backprop\n",
            "     Loss: 1.6182\n",
            "     on to loss\n",
            "     backprop\n",
            "     Loss: 1.5402\n",
            "     on to loss\n",
            "     backprop\n",
            "     Loss: 1.5022\n",
            "     on to loss\n",
            "     backprop\n",
            "     Loss: 1.4715\n",
            "     on to loss\n",
            "     backprop\n",
            "     Loss: 1.4377\n",
            "     on to loss\n",
            "     backprop\n",
            "     Loss: 1.3972\n",
            "     on to loss\n",
            "     backprop\n",
            "     Loss: 1.3752\n",
            "     on to loss\n",
            "     backprop\n",
            "     Loss: 1.3897\n",
            "     on to loss\n",
            "     backprop\n",
            "     Loss: 1.3765\n",
            "     on to loss\n",
            "     backprop\n",
            "     Loss: 1.3491\n",
            "     on to loss\n",
            "     backprop\n",
            "     Loss: 1.3206\n",
            "     on to loss\n",
            "     backprop\n",
            "     Loss: 1.2944\n",
            "     on to loss\n",
            "     backprop\n",
            "     Loss: 1.2759\n",
            "     on to loss\n",
            "     backprop\n",
            "     Loss: 1.2572\n",
            "     on to loss\n",
            "     backprop\n",
            "     Loss: 1.2301\n",
            "     on to loss\n",
            "     backprop\n",
            "     Loss: 1.2119\n",
            "     on to loss\n",
            "     backprop\n",
            "     Loss: 1.2125\n",
            "     on to loss\n",
            "     backprop\n",
            "     Loss: 1.2116\n",
            "     on to loss\n",
            "     backprop\n",
            "     Loss: 1.2004\n",
            "     on to loss\n",
            "     backprop\n",
            "     Loss: 1.1870\n",
            "     on to loss\n",
            "     backprop\n",
            "     Loss: 1.1830\n",
            "     on to loss\n",
            "     backprop\n",
            "     Loss: 1.1738\n",
            "     on to loss\n",
            "     backprop\n",
            "     Loss: 1.1582\n",
            "     on to loss\n",
            "     backprop\n",
            "     Loss: 1.1408\n",
            "     on to loss\n",
            "     backprop\n",
            "     Loss: 1.1221\n",
            "     on to loss\n",
            "     backprop\n",
            "     Loss: 1.1039\n",
            "     on to loss\n",
            "     backprop\n",
            "     Loss: 1.0911\n",
            "     on to loss\n",
            "     backprop\n",
            "     Loss: 1.1044\n",
            "     on to loss\n",
            "     backprop\n",
            "     Loss: 1.1003\n",
            "     on to loss\n",
            "     backprop\n",
            "     Loss: 1.0909\n",
            "     on to loss\n",
            "     backprop\n",
            "     Loss: 1.0793\n",
            "     on to loss\n",
            "     backprop\n",
            "     Loss: 1.0682\n",
            "     on to loss\n",
            "     backprop\n",
            "     Loss: 1.0794\n",
            "     on to loss\n",
            "     backprop\n",
            "     Loss: 1.0798\n",
            "     on to loss\n",
            "     backprop\n",
            "     Loss: 1.0725\n",
            "     on to loss\n",
            "     backprop\n",
            "     Loss: 1.0721\n",
            "     on to loss\n",
            "     backprop\n",
            "     Loss: 1.0846\n",
            "     on to loss\n",
            "     backprop\n",
            "     Loss: 1.0932\n",
            "     on to loss\n",
            "     backprop\n",
            "     Loss: 1.0848\n",
            "     on to loss\n",
            "     backprop\n",
            "     Loss: 1.0742\n",
            "     on to loss\n",
            "     backprop\n",
            "     Loss: 1.0667\n",
            "     on to loss\n",
            "     backprop\n",
            "     Loss: 1.0606\n",
            "     on to loss\n",
            "     backprop\n",
            "     Loss: 1.0528\n",
            "     on to loss\n",
            "     backprop\n",
            "     Loss: 1.0434\n",
            "     on to loss\n",
            "     backprop\n",
            "     Loss: 1.0341\n",
            "     on to loss\n",
            "     backprop\n",
            "     Loss: 1.0254\n",
            "     on to loss\n",
            "     backprop\n",
            "     Loss: 1.0161\n",
            "     on to loss\n",
            "     backprop\n",
            "     Loss: 1.0041\n",
            "     on to loss\n",
            "     backprop\n",
            "     Loss: 1.0027\n",
            "     on to loss\n",
            "     backprop\n",
            "     Loss: 0.9946\n",
            "     on to loss\n",
            "     backprop\n",
            "     Loss: 0.9878\n",
            "     on to loss\n",
            "     backprop\n",
            "     Loss: 0.9848\n",
            "     on to loss\n",
            "     backprop\n",
            "     Loss: 0.9812\n",
            "     on to loss\n",
            "     backprop\n",
            "     Loss: 0.9754\n",
            "     on to loss\n",
            "     backprop\n",
            "     Loss: 0.9686\n",
            "     on to loss\n",
            "     backprop\n",
            "     Loss: 0.9686\n",
            "     on to loss\n",
            "     backprop\n",
            "     Loss: 0.9633\n",
            "     on to loss\n",
            "     backprop\n",
            "     Loss: 0.9582\n",
            "     on to loss\n",
            "     backprop\n",
            "     Loss: 0.9502\n",
            "     on to loss\n",
            "     backprop\n",
            "     Loss: 0.9463\n",
            "     on to loss\n",
            "     backprop\n",
            "     Loss: 0.9427\n",
            "     on to loss\n",
            "     backprop\n",
            "     Loss: 0.9485\n",
            "     on to loss\n",
            "     backprop\n",
            "     Loss: 0.9484\n",
            "     on to loss\n",
            "     backprop\n",
            "     Loss: 0.9433\n",
            "     on to loss\n",
            "     backprop\n",
            "     Loss: 0.9430\n",
            "     on to loss\n",
            "     backprop\n",
            "     Loss: 0.9365\n",
            "     on to loss\n",
            "     backprop\n",
            "     Loss: 0.9297\n",
            "     on to loss\n",
            "     backprop\n",
            "     Loss: 0.9239\n",
            "     on to loss\n",
            "     backprop\n",
            "     Loss: 0.9194\n",
            "     on to loss\n",
            "     backprop\n",
            "     Loss: 0.9155\n",
            "     on to loss\n",
            "     backprop\n",
            "     Loss: 0.9103\n",
            "     on to loss\n",
            "     backprop\n",
            "     Loss: 0.9097\n",
            "     on to loss\n",
            "     backprop\n",
            "     Loss: 0.9015\n",
            "     on to loss\n",
            "     backprop\n",
            "     Loss: 0.8970\n",
            "     on to loss\n",
            "     backprop\n",
            "     Loss: 0.8934\n",
            "     on to loss\n",
            "     backprop\n",
            "     Loss: 0.8868\n",
            "     on to loss\n",
            "     backprop\n",
            "     Loss: 0.8909\n",
            "     on to loss\n",
            "     backprop\n",
            "     Loss: 0.8941\n",
            "     on to loss\n",
            "     backprop\n",
            "     Loss: 0.8927\n",
            "     on to loss\n",
            "     backprop\n",
            "     Loss: 0.8866\n",
            "     on to loss\n",
            "     backprop\n",
            "     Loss: 0.8842\n",
            "     on to loss\n",
            "     backprop\n",
            "     Loss: 0.8811\n",
            "     on to loss\n",
            "     backprop\n",
            "     Loss: 0.8800\n",
            "     on to loss\n",
            "     backprop\n",
            "     Loss: 0.8753\n",
            "     on to loss\n",
            "     backprop\n",
            "     Loss: 0.8750\n",
            "     on to loss\n",
            "     backprop\n",
            "     Loss: 0.8731\n",
            "     on to loss\n",
            "     backprop\n",
            "     Loss: 0.8715\n",
            "     on to loss\n",
            "     backprop\n",
            "     Loss: 0.8660\n",
            "     on to loss\n",
            "     backprop\n",
            "     Loss: 0.8610\n",
            "     on to loss\n",
            "     backprop\n",
            "     Loss: 0.8566\n",
            "     on to loss\n",
            "     backprop\n",
            "     Loss: 0.8516\n",
            "     on to loss\n",
            "     backprop\n",
            "     Loss: 0.8453\n",
            "     on to loss\n",
            "     backprop\n",
            "     Loss: 0.8397\n",
            "     on to loss\n",
            "     backprop\n",
            "     Loss: 0.8333\n",
            "     on to loss\n",
            "     backprop\n",
            "     Loss: 0.8295\n",
            "     on to loss\n",
            "     backprop\n",
            "     Loss: 0.8269\n",
            "     on to loss\n",
            "     backprop\n",
            "     Loss: 0.8202\n",
            "     on to loss\n",
            "     backprop\n",
            "     Loss: 0.8149\n",
            "     on to loss\n",
            "     backprop\n",
            "     Loss: 0.8147\n",
            "     on to loss\n",
            "     backprop\n",
            "     Loss: 0.8126\n",
            "     on to loss\n",
            "     backprop\n",
            "     Loss: 0.8144\n"
          ],
          "name": "stdout"
        }
      ]
    },
    {
      "cell_type": "code",
      "metadata": {
        "id": "SIIQSeY1U3ol",
        "colab_type": "code",
        "colab": {}
      },
      "source": [
        "model_save_name = 'resnet18.pt'\n",
        "path = F\"/content/gdrive/My Drive/VRResearch/{model_save_name}\"\n",
        "torch.save(model.state_dict(), path)"
      ],
      "execution_count": 0,
      "outputs": []
    },
    {
      "cell_type": "code",
      "metadata": {
        "id": "bHtWq8GTVlmx",
        "colab_type": "code",
        "outputId": "e26f1c13-355e-4559-a8d7-940c9e51b97c",
        "colab": {
          "base_uri": "https://localhost:8080/",
          "height": 34
        }
      },
      "source": [
        "model_save_name = 'resnet18.pt'\n",
        "path = F\"/content/gdrive/My Drive/VRResearch/{model_save_name}\"\n",
        "model.load_state_dict(torch.load(path))"
      ],
      "execution_count": 0,
      "outputs": [
        {
          "output_type": "execute_result",
          "data": {
            "text/plain": [
              "<All keys matched successfully>"
            ]
          },
          "metadata": {
            "tags": []
          },
          "execution_count": 35
        }
      ]
    },
    {
      "cell_type": "code",
      "metadata": {
        "id": "-i059XYyJ2qg",
        "colab_type": "code",
        "outputId": "202d4e4e-b078-411b-e1fe-f51a960639c0",
        "colab": {
          "base_uri": "https://localhost:8080/",
          "height": 697
        }
      },
      "source": [
        "# Validation\n",
        "\n",
        "model.eval()\n",
        "with torch.set_grad_enabled(False):\n",
        "  val_wrong = 0\n",
        "  for i, data in enumerate(validation_generator):\n",
        "    print(\"Current: \" + str(i) + \" / \" )\n",
        "    # Transfer to GPU\n",
        "    X, y = data[0], data[1]\n",
        "     # Model computations\n",
        "    outputs = model(X)\n",
        "    predicted_classes = torch.max(outputs, 1)[1]\n",
        "    prediction_lst = predicted_classes.tolist()\n",
        "    val_wrong += sum([1 if prediction_lst[i] == y[i] else 0 for i in range(len(prediction_lst))])\n",
        "\n",
        "print(f\"Training time: {time.time()-start_ts}s\")"
      ],
      "execution_count": 0,
      "outputs": [
        {
          "output_type": "stream",
          "text": [
            "Current: 0 / \n",
            "Current: 1 / \n",
            "Current: 2 / \n",
            "Current: 3 / \n",
            "Current: 4 / \n",
            "Current: 5 / \n",
            "Current: 6 / \n",
            "Current: 7 / \n",
            "Current: 8 / \n",
            "Current: 9 / \n",
            "Current: 10 / \n",
            "Current: 11 / \n",
            "Current: 12 / \n",
            "Current: 13 / \n",
            "Current: 14 / \n",
            "Current: 15 / \n",
            "Current: 16 / \n",
            "Current: 17 / \n",
            "Current: 18 / \n",
            "Current: 19 / \n",
            "Current: 20 / \n",
            "Current: 21 / \n",
            "Current: 22 / \n",
            "Current: 23 / \n",
            "Current: 24 / \n",
            "Current: 25 / \n",
            "Current: 26 / \n",
            "Current: 27 / \n",
            "Current: 28 / \n",
            "Current: 29 / \n",
            "Current: 30 / \n",
            "Current: 31 / \n",
            "Current: 32 / \n",
            "Current: 33 / \n",
            "Current: 34 / \n",
            "Current: 35 / \n",
            "Current: 36 / \n",
            "Current: 37 / \n",
            "Current: 38 / \n",
            "Training time: 7460.033665180206s\n"
          ],
          "name": "stdout"
        }
      ]
    },
    {
      "cell_type": "code",
      "metadata": {
        "id": "OJlq_B9jA-ir",
        "colab_type": "code",
        "outputId": "1d28fbec-f6b6-47f8-90af-686da0c09fc5",
        "colab": {
          "base_uri": "https://localhost:8080/",
          "height": 34
        }
      },
      "source": [
        "print(1 - (val_wrong / 387))"
      ],
      "execution_count": 0,
      "outputs": [
        {
          "output_type": "stream",
          "text": [
            "0.6408268733850129\n"
          ],
          "name": "stdout"
        }
      ]
    },
    {
      "cell_type": "code",
      "metadata": {
        "id": "DECFIv3eM56f",
        "colab_type": "code",
        "colab": {}
      },
      "source": [
        ""
      ],
      "execution_count": 0,
      "outputs": []
    }
  ]
}